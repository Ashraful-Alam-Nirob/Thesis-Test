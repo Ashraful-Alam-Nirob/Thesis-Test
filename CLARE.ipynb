{
  "nbformat": 4,
  "nbformat_minor": 0,
  "metadata": {
    "colab": {
      "provenance": [],
      "gpuType": "T4",
      "mount_file_id": "1qtu-FhnWGduMIaF8IXlVPjKzYpnHxE2e",
      "authorship_tag": "ABX9TyM7I9DjLJqTh7oF6i48af39",
      "include_colab_link": true
    },
    "kernelspec": {
      "name": "python3",
      "display_name": "Python 3"
    },
    "language_info": {
      "name": "python"
    },
    "accelerator": "GPU"
  },
  "cells": [
    {
      "cell_type": "markdown",
      "metadata": {
        "id": "view-in-github",
        "colab_type": "text"
      },
      "source": [
        "<a href=\"https://colab.research.google.com/github/Ashraful-Alam-Nirob/Thesis-Test/blob/main/CLARE.ipynb\" target=\"_parent\"><img src=\"https://colab.research.google.com/assets/colab-badge.svg\" alt=\"Open In Colab\"/></a>"
      ]
    },
    {
      "cell_type": "code",
      "source": [
        "!pip install tensorboardX"
      ],
      "metadata": {
        "colab": {
          "base_uri": "https://localhost:8080/"
        },
        "id": "Ttykhtcrh2oj",
        "outputId": "20acd5dd-610a-426b-940b-4e60f27aa500"
      },
      "execution_count": 1,
      "outputs": [
        {
          "output_type": "stream",
          "name": "stdout",
          "text": [
            "Collecting tensorboardX\n",
            "  Downloading tensorboardX-2.6.2.2-py2.py3-none-any.whl (101 kB)\n",
            "\u001b[2K     \u001b[90m━━━━━━━━━━━━━━━━━━━━━━━━━━━━━━━━━━━━━━━━\u001b[0m \u001b[32m101.7/101.7 kB\u001b[0m \u001b[31m2.1 MB/s\u001b[0m eta \u001b[36m0:00:00\u001b[0m\n",
            "\u001b[?25hRequirement already satisfied: numpy in /usr/local/lib/python3.10/dist-packages (from tensorboardX) (1.23.5)\n",
            "Requirement already satisfied: packaging in /usr/local/lib/python3.10/dist-packages (from tensorboardX) (23.2)\n",
            "Requirement already satisfied: protobuf>=3.20 in /usr/local/lib/python3.10/dist-packages (from tensorboardX) (3.20.3)\n",
            "Installing collected packages: tensorboardX\n",
            "Successfully installed tensorboardX-2.6.2.2\n"
          ]
        }
      ]
    },
    {
      "cell_type": "code",
      "source": [
        "!pip install torch_geometric"
      ],
      "metadata": {
        "colab": {
          "base_uri": "https://localhost:8080/"
        },
        "id": "n9I_mS3piTNt",
        "outputId": "8dc29f72-0c9d-4f94-d5aa-f28ecd78452f"
      },
      "execution_count": 2,
      "outputs": [
        {
          "output_type": "stream",
          "name": "stdout",
          "text": [
            "Collecting torch_geometric\n",
            "  Downloading torch_geometric-2.4.0-py3-none-any.whl (1.0 MB)\n",
            "\u001b[2K     \u001b[90m━━━━━━━━━━━━━━━━━━━━━━━━━━━━━━━━━━━━━━━━\u001b[0m \u001b[32m1.0/1.0 MB\u001b[0m \u001b[31m3.2 MB/s\u001b[0m eta \u001b[36m0:00:00\u001b[0m\n",
            "\u001b[?25hRequirement already satisfied: tqdm in /usr/local/lib/python3.10/dist-packages (from torch_geometric) (4.66.1)\n",
            "Requirement already satisfied: numpy in /usr/local/lib/python3.10/dist-packages (from torch_geometric) (1.23.5)\n",
            "Requirement already satisfied: scipy in /usr/local/lib/python3.10/dist-packages (from torch_geometric) (1.11.3)\n",
            "Requirement already satisfied: jinja2 in /usr/local/lib/python3.10/dist-packages (from torch_geometric) (3.1.2)\n",
            "Requirement already satisfied: requests in /usr/local/lib/python3.10/dist-packages (from torch_geometric) (2.31.0)\n",
            "Requirement already satisfied: pyparsing in /usr/local/lib/python3.10/dist-packages (from torch_geometric) (3.1.1)\n",
            "Requirement already satisfied: scikit-learn in /usr/local/lib/python3.10/dist-packages (from torch_geometric) (1.2.2)\n",
            "Requirement already satisfied: psutil>=5.8.0 in /usr/local/lib/python3.10/dist-packages (from torch_geometric) (5.9.5)\n",
            "Requirement already satisfied: MarkupSafe>=2.0 in /usr/local/lib/python3.10/dist-packages (from jinja2->torch_geometric) (2.1.3)\n",
            "Requirement already satisfied: charset-normalizer<4,>=2 in /usr/local/lib/python3.10/dist-packages (from requests->torch_geometric) (3.3.2)\n",
            "Requirement already satisfied: idna<4,>=2.5 in /usr/local/lib/python3.10/dist-packages (from requests->torch_geometric) (3.4)\n",
            "Requirement already satisfied: urllib3<3,>=1.21.1 in /usr/local/lib/python3.10/dist-packages (from requests->torch_geometric) (2.0.7)\n",
            "Requirement already satisfied: certifi>=2017.4.17 in /usr/local/lib/python3.10/dist-packages (from requests->torch_geometric) (2023.7.22)\n",
            "Requirement already satisfied: joblib>=1.1.1 in /usr/local/lib/python3.10/dist-packages (from scikit-learn->torch_geometric) (1.3.2)\n",
            "Requirement already satisfied: threadpoolctl>=2.0.0 in /usr/local/lib/python3.10/dist-packages (from scikit-learn->torch_geometric) (3.2.0)\n",
            "Installing collected packages: torch_geometric\n",
            "Successfully installed torch_geometric-2.4.0\n"
          ]
        }
      ]
    },
    {
      "cell_type": "code",
      "source": [
        "!cd /content/drive/MyDrive/KDD2022CLARE-master"
      ],
      "metadata": {
        "id": "LGex0UrTij7c"
      },
      "execution_count": 3,
      "outputs": []
    },
    {
      "cell_type": "code",
      "execution_count": 4,
      "metadata": {
        "colab": {
          "base_uri": "https://localhost:8080/"
        },
        "id": "7SSyehMrhRaM",
        "outputId": "13c79715-6255-4b06-a124-449636ceed77"
      },
      "outputs": [
        {
          "output_type": "stream",
          "name": "stdout",
          "text": [
            "= = = = = = = = = = = = = = = = = = = = \n",
            "##  Starting Time: 2023-11-27 21:09:49\n",
            "Namespace(seed=0, device='cuda:0', dataset='amazon', num_pred=1000, num_train=90, num_val=10, gnn_type='GCN', n_layers=2, hidden_dim=64, output_dim=64, margin=0.6, comm_max_size=12, locator_lr=0.001, locator_epoch=30, locator_batch_size=256, agent_lr=0.001, n_episode=10, n_epoch=1000, gamma=0.99, max_step=10, max_rewrite_step=4, commr_path='', writer_dir='/content/drive/MyDrive/KDD2022CLARE-master/ckpts/amazon/20231127-210949')\n",
            "[AMAZON] #Nodes 6926, #Edges 17893, #Communities 1000\n",
            "Finish loading data: Data(x=[6926, 5], edge_index=[2, 35786])\n",
            "\n",
            "Split dataset: #Train 90, #Val 10, #Test 900\n",
            "\n",
            "Community Locator init ... \n",
            "GNNEncoder(\n",
            "  (act): LeakyReLU(negative_slope=0.01)\n",
            "  (conv_layers): ModuleList(\n",
            "    (0): GCNConv(5, 64)\n",
            "    (1): GCNConv(64, 64)\n",
            "  )\n",
            ")\n",
            "Community Locator finish initialization!\n",
            "\n",
            "Training Order Embedding ... \n",
            "***epoch: 0001 | ORDER EMBEDDING train_loss: 25.17432 | cost time 1.92s\n",
            "***epoch: 0002 | ORDER EMBEDDING train_loss: 19.34195 | cost time 0.678s\n",
            "***epoch: 0003 | ORDER EMBEDDING train_loss: 22.29308 | cost time 0.651s\n",
            "***epoch: 0004 | ORDER EMBEDDING train_loss: 22.24190 | cost time 0.674s\n",
            "***epoch: 0005 | ORDER EMBEDDING train_loss: 21.68535 | cost time 0.676s\n",
            "***epoch: 0006 | ORDER EMBEDDING train_loss: 23.22301 | cost time 0.661s\n",
            "***epoch: 0007 | ORDER EMBEDDING train_loss: 20.11825 | cost time 0.7s\n",
            "***epoch: 0008 | ORDER EMBEDDING train_loss: 21.64506 | cost time 1.1s\n",
            "***epoch: 0009 | ORDER EMBEDDING train_loss: 19.14561 | cost time 1.09s\n",
            "***epoch: 0010 | ORDER EMBEDDING train_loss: 18.35947 | cost time 1.1s\n",
            "***epoch: 0011 | ORDER EMBEDDING train_loss: 16.65322 | cost time 1.08s\n",
            "***epoch: 0012 | ORDER EMBEDDING train_loss: 16.11164 | cost time 1.12s\n",
            "***epoch: 0013 | ORDER EMBEDDING train_loss: 18.00310 | cost time 0.986s\n",
            "***epoch: 0014 | ORDER EMBEDDING train_loss: 13.94429 | cost time 0.654s\n",
            "***epoch: 0015 | ORDER EMBEDDING train_loss: 15.24273 | cost time 0.657s\n",
            "***epoch: 0016 | ORDER EMBEDDING train_loss: 13.00831 | cost time 0.655s\n",
            "***epoch: 0017 | ORDER EMBEDDING train_loss: 13.47365 | cost time 0.636s\n",
            "***epoch: 0018 | ORDER EMBEDDING train_loss: 13.43828 | cost time 0.653s\n",
            "***epoch: 0019 | ORDER EMBEDDING train_loss: 14.63130 | cost time 0.68s\n",
            "***epoch: 0020 | ORDER EMBEDDING train_loss: 11.45505 | cost time 0.662s\n",
            "***epoch: 0021 | ORDER EMBEDDING train_loss: 11.34697 | cost time 0.676s\n",
            "***epoch: 0022 | ORDER EMBEDDING train_loss: 10.92064 | cost time 0.684s\n",
            "***epoch: 0023 | ORDER EMBEDDING train_loss: 9.34623 | cost time 0.661s\n",
            "***epoch: 0024 | ORDER EMBEDDING train_loss: 8.95903 | cost time 0.656s\n",
            "***epoch: 0025 | ORDER EMBEDDING train_loss: 9.16722 | cost time 0.647s\n",
            "***epoch: 0026 | ORDER EMBEDDING train_loss: 12.61872 | cost time 0.672s\n",
            "***epoch: 0027 | ORDER EMBEDDING train_loss: 10.58443 | cost time 0.658s\n",
            "***epoch: 0028 | ORDER EMBEDDING train_loss: 9.33362 | cost time 0.763s\n",
            "***epoch: 0029 | ORDER EMBEDDING train_loss: 8.09513 | cost time 1.13s\n",
            "***epoch: 0030 | ORDER EMBEDDING train_loss: 8.73940 | cost time 1.11s\n",
            "Order Embedding Finish Training!\n",
            "\n",
            "***Generate nodes embedding from idx 0 to 4096\n",
            "***Generate nodes embedding from idx 4096 to 6926\n",
            "\n",
            "Start Matching ... \n",
            "[Generate] Pred size 1000, Avg Length 8.2540\n",
            "\n",
            "P, R, F, J AvgAxis0:  [0.82410155 0.72994168 0.74508545 0.6380555 ]\n",
            "P, R, F, J AvgAxis1:  [0.7518361  0.722442   0.72115051 0.64919401]\n",
            "AvgF1: 0.7331 AvgJaccard: 0.6436 NMI: 0.6631 Detect percent: 0.6360\n",
            "[Eval-Epoch140] Improve f1 0.0217, improve jaccard 0.0289, improve new_nmi 0.0253\n",
            "[Eval-Epoch160] Improve f1 0.0146, improve jaccard 0.0225, improve new_nmi 0.0213\n",
            "[Eval-Epoch180] Improve f1 0.0215, improve jaccard 0.0339, improve new_nmi 0.0297\n",
            "[Eval-Epoch200] Improve f1 0.0145, improve jaccard 0.0200, improve new_nmi 0.0130\n",
            "[Eval-Epoch220] Improve f1 0.0200, improve jaccard 0.0258, improve new_nmi 0.0143\n",
            "[Eval-Epoch240] Improve f1 0.0153, improve jaccard 0.0214, improve new_nmi 0.0207\n",
            "[Eval-Epoch260] Improve f1 0.0107, improve jaccard 0.0135, improve new_nmi 0.0154\n",
            "[Eval-Epoch280] Improve f1 0.0217, improve jaccard 0.0291, improve new_nmi 0.0200\n",
            "[Eval-Epoch300] Improve f1 0.0091, improve jaccard 0.0107, improve new_nmi 0.0105\n",
            "[Eval-Epoch320] Improve f1 0.0062, improve jaccard 0.0072, improve new_nmi 0.0078\n",
            "[Eval-Epoch360] Improve f1 0.0158, improve jaccard 0.0206, improve new_nmi 0.0192\n",
            "[Eval-Epoch380] Improve f1 0.0246, improve jaccard 0.0340, improve new_nmi 0.0252\n",
            "[Eval-Epoch460] Improve f1 0.0123, improve jaccard 0.0164, improve new_nmi 0.0200\n",
            "[Eval-Epoch480] Improve f1 0.0089, improve jaccard 0.0127, improve new_nmi 0.0109\n",
            "[Eval-Epoch500] Improve f1 0.0060, improve jaccard 0.0085, improve new_nmi 0.0008\n",
            "[Eval-Epoch520] Improve f1 0.0112, improve jaccard 0.0139, improve new_nmi 0.0133\n",
            "[Eval-Epoch540] Improve f1 0.0166, improve jaccard 0.0216, improve new_nmi 0.0188\n",
            "[Eval-Epoch560] Improve f1 0.0083, improve jaccard 0.0102, improve new_nmi 0.0015\n",
            "[Eval-Epoch580] Improve f1 0.0121, improve jaccard 0.0161, improve new_nmi 0.0182\n",
            "[Eval-Epoch600] Improve f1 0.0158, improve jaccard 0.0206, improve new_nmi 0.0192\n",
            "[Eval-Epoch620] Improve f1 0.0060, improve jaccard 0.0076, improve new_nmi 0.0094\n",
            "[Eval-Epoch640] Improve f1 0.0248, improve jaccard 0.0412, improve new_nmi 0.0398\n",
            "[Eval-Epoch660] Improve f1 0.0372, improve jaccard 0.0595, improve new_nmi 0.0546\n",
            "[Eval-Epoch680] Improve f1 0.0398, improve jaccard 0.0648, improve new_nmi 0.0731\n",
            "[Eval-Epoch700] Improve f1 0.0245, improve jaccard 0.0415, improve new_nmi 0.0378\n",
            "[Eval-Epoch720] Improve f1 0.0263, improve jaccard 0.0391, improve new_nmi 0.0395\n",
            "[Eval-Epoch740] Improve f1 0.0365, improve jaccard 0.0609, improve new_nmi 0.0691\n",
            "[Eval-Epoch760] Improve f1 0.0365, improve jaccard 0.0609, improve new_nmi 0.0691\n",
            "[Eval-Epoch780] Improve f1 0.0422, improve jaccard 0.0764, improve new_nmi 0.0849\n",
            "[Eval-Epoch800] Improve f1 0.0419, improve jaccard 0.0686, improve new_nmi 0.0747\n",
            "[Eval-Epoch820] Improve f1 0.0582, improve jaccard 0.0961, improve new_nmi 0.0980\n",
            "[Eval-Epoch840] Improve f1 0.0648, improve jaccard 0.1048, improve new_nmi 0.1105\n",
            "[Eval-Epoch860] Improve f1 0.0539, improve jaccard 0.0903, improve new_nmi 0.1058\n",
            "[Eval-Epoch880] Improve f1 0.0644, improve jaccard 0.1083, improve new_nmi 0.1194\n",
            "[Eval-Epoch900] Improve f1 0.0357, improve jaccard 0.0668, improve new_nmi 0.0844\n",
            "[Eval-Epoch920] Improve f1 0.0509, improve jaccard 0.0890, improve new_nmi 0.1012\n",
            "[Eval-Epoch940] Improve f1 0.0579, improve jaccard 0.0957, improve new_nmi 0.1026\n",
            "[Eval-Epoch960] Improve f1 0.0577, improve jaccard 0.0953, improve new_nmi 0.1028\n",
            "[Eval-Epoch980] Improve f1 0.0616, improve jaccard 0.1032, improve new_nmi 0.1139\n",
            "[Eval-Epoch1000] Improve f1 0.0630, improve jaccard 0.1042, improve new_nmi 0.1126\n",
            "Load net from /content/drive/MyDrive/KDD2022CLARE-master/ckpts/amazon/20231127-210949/commr_eval_best.pt at Epoch839\n",
            "[Rewrite] Pred size 1000, Avg Length 8.9050\n",
            "P, R, F, J AvgAxis0:  [0.88220065 0.77072683 0.80284126 0.71973231]\n",
            "P, R, F, J AvgAxis1:  [0.77163506 0.79202379 0.77221941 0.72862968]\n",
            "AvgF1: 0.7875 AvgJaccard: 0.7242 NMI: 0.7423 Detect percent: 0.6643\n",
            "## Finishing Time: 2023-11-27 21:12:43\n",
            "= = = = = = = = = = = = = = = = = = = = \n"
          ]
        }
      ],
      "source": [
        "!python /content/drive/MyDrive/KDD2022CLARE-master/main.py --dataset=amazon"
      ]
    },
    {
      "cell_type": "code",
      "source": [
        "!python /content/drive/MyDrive/KDD2022CLARE-master/main.py --dataset=dblp"
      ],
      "metadata": {
        "colab": {
          "base_uri": "https://localhost:8080/"
        },
        "id": "IhMsxaQHiQHK",
        "outputId": "10439dd0-247b-43f6-f161-fdeda2e979c2"
      },
      "execution_count": 5,
      "outputs": [
        {
          "output_type": "stream",
          "name": "stdout",
          "text": [
            "= = = = = = = = = = = = = = = = = = = = \n",
            "##  Starting Time: 2023-11-27 21:27:26\n",
            "Namespace(seed=0, device='cuda:0', dataset='dblp', num_pred=1000, num_train=90, num_val=10, gnn_type='GCN', n_layers=2, hidden_dim=64, output_dim=64, margin=0.6, comm_max_size=12, locator_lr=0.001, locator_epoch=30, locator_batch_size=256, agent_lr=0.001, n_episode=10, n_epoch=1000, gamma=0.99, max_step=10, max_rewrite_step=4, commr_path='', writer_dir='/content/drive/MyDrive/KDD2022CLARE-master/ckpts/dblp/20231127-212726')\n",
            "[DBLP] #Nodes 37020, #Edges 149501, #Communities 1000\n",
            "Finish loading data: Data(x=[37020, 5], edge_index=[2, 299002])\n",
            "\n",
            "Split dataset: #Train 90, #Val 10, #Test 900\n",
            "\n",
            "Community Locator init ... \n",
            "GNNEncoder(\n",
            "  (act): LeakyReLU(negative_slope=0.01)\n",
            "  (conv_layers): ModuleList(\n",
            "    (0): GCNConv(5, 64)\n",
            "    (1): GCNConv(64, 64)\n",
            "  )\n",
            ")\n",
            "Community Locator finish initialization!\n",
            "\n",
            "Training Order Embedding ... \n",
            "***epoch: 0001 | ORDER EMBEDDING train_loss: 30.26123 | cost time 3.69s\n",
            "***epoch: 0002 | ORDER EMBEDDING train_loss: 21.27040 | cost time 5.63s\n",
            "***epoch: 0003 | ORDER EMBEDDING train_loss: 23.16150 | cost time 3.56s\n",
            "***epoch: 0004 | ORDER EMBEDDING train_loss: 27.67727 | cost time 3.23s\n",
            "***epoch: 0005 | ORDER EMBEDDING train_loss: 23.54818 | cost time 3.18s\n",
            "***epoch: 0006 | ORDER EMBEDDING train_loss: 23.91091 | cost time 5.23s\n",
            "***epoch: 0007 | ORDER EMBEDDING train_loss: 23.47302 | cost time 3.85s\n",
            "***epoch: 0008 | ORDER EMBEDDING train_loss: 22.57728 | cost time 3.17s\n",
            "***epoch: 0009 | ORDER EMBEDDING train_loss: 19.28234 | cost time 3.16s\n",
            "***epoch: 0010 | ORDER EMBEDDING train_loss: 28.53332 | cost time 4.56s\n",
            "***epoch: 0011 | ORDER EMBEDDING train_loss: 15.50556 | cost time 4.66s\n",
            "***epoch: 0012 | ORDER EMBEDDING train_loss: 18.64027 | cost time 3.24s\n",
            "***epoch: 0013 | ORDER EMBEDDING train_loss: 17.01460 | cost time 3.26s\n",
            "***epoch: 0014 | ORDER EMBEDDING train_loss: 14.39699 | cost time 3.91s\n",
            "***epoch: 0015 | ORDER EMBEDDING train_loss: 19.55593 | cost time 5.21s\n",
            "***epoch: 0016 | ORDER EMBEDDING train_loss: 13.69379 | cost time 3.25s\n",
            "***epoch: 0017 | ORDER EMBEDDING train_loss: 11.79401 | cost time 3.2s\n",
            "***epoch: 0018 | ORDER EMBEDDING train_loss: 16.97454 | cost time 3.44s\n",
            "***epoch: 0019 | ORDER EMBEDDING train_loss: 10.82470 | cost time 5.61s\n",
            "***epoch: 0020 | ORDER EMBEDDING train_loss: 13.77253 | cost time 3.47s\n",
            "***epoch: 0021 | ORDER EMBEDDING train_loss: 15.46520 | cost time 3.18s\n",
            "***epoch: 0022 | ORDER EMBEDDING train_loss: 10.68176 | cost time 3.19s\n",
            "***epoch: 0023 | ORDER EMBEDDING train_loss: 15.89653 | cost time 4.91s\n",
            "***epoch: 0024 | ORDER EMBEDDING train_loss: 13.10113 | cost time 4.24s\n",
            "***epoch: 0025 | ORDER EMBEDDING train_loss: 11.20758 | cost time 3.16s\n",
            "***epoch: 0026 | ORDER EMBEDDING train_loss: 11.65970 | cost time 3.21s\n",
            "***epoch: 0027 | ORDER EMBEDDING train_loss: 8.48606 | cost time 4.26s\n",
            "***epoch: 0028 | ORDER EMBEDDING train_loss: 12.58492 | cost time 4.92s\n",
            "***epoch: 0029 | ORDER EMBEDDING train_loss: 9.68478 | cost time 3.18s\n",
            "***epoch: 0030 | ORDER EMBEDDING train_loss: 10.95115 | cost time 3.25s\n",
            "Order Embedding Finish Training!\n",
            "\n",
            "***Generate nodes embedding from idx 0 to 4096\n",
            "***Generate nodes embedding from idx 4096 to 8192\n",
            "***Generate nodes embedding from idx 8192 to 12288\n",
            "***Generate nodes embedding from idx 12288 to 16384\n",
            "***Generate nodes embedding from idx 16384 to 20480\n",
            "***Generate nodes embedding from idx 20480 to 24576\n",
            "***Generate nodes embedding from idx 24576 to 28672\n",
            "***Generate nodes embedding from idx 28672 to 32768\n",
            "***Generate nodes embedding from idx 32768 to 36864\n",
            "***Generate nodes embedding from idx 36864 to 37020\n",
            "\n",
            "Start Matching ... \n",
            "[Generate] Pred size 1000, Avg Length 9.5330\n",
            "\n",
            "P, R, F, J AvgAxis0:  [0.53466097 0.57583105 0.53394708 0.41398528]\n",
            "P, R, F, J AvgAxis1:  [0.4310137  0.39126194 0.39549106 0.32048792]\n",
            "AvgF1: 0.4647 AvgJaccard: 0.3672 NMI: 0.2992 Detect percent: 0.4513\n",
            "[Eval-Epoch340] Improve f1 0.0022, improve jaccard 0.0038, improve new_nmi -0.0062\n",
            "[Eval-Epoch360] Improve f1 0.0081, improve jaccard 0.0098, improve new_nmi 0.0083\n",
            "[Eval-Epoch440] Improve f1 0.0040, improve jaccard 0.0045, improve new_nmi 0.0042\n",
            "[Eval-Epoch520] Improve f1 0.0040, improve jaccard 0.0045, improve new_nmi 0.0042\n",
            "[Eval-Epoch660] Improve f1 0.0009, improve jaccard 0.0008, improve new_nmi 0.0013\n",
            "[Eval-Epoch680] Improve f1 0.0040, improve jaccard 0.0045, improve new_nmi 0.0042\n",
            "[Eval-Epoch700] Improve f1 0.0155, improve jaccard 0.0246, improve new_nmi 0.0195\n",
            "[Eval-Epoch720] Improve f1 0.0009, improve jaccard 0.0008, improve new_nmi -0.0076\n",
            "[Eval-Epoch740] Improve f1 0.0040, improve jaccard 0.0045, improve new_nmi 0.0042\n",
            "[Eval-Epoch780] Improve f1 0.0040, improve jaccard 0.0045, improve new_nmi 0.0042\n",
            "[Eval-Epoch800] Improve f1 0.0103, improve jaccard 0.0129, improve new_nmi 0.0034\n",
            "[Eval-Epoch820] Improve f1 0.0081, improve jaccard 0.0098, improve new_nmi 0.0083\n",
            "[Eval-Epoch860] Improve f1 0.0103, improve jaccard 0.0129, improve new_nmi 0.0034\n",
            "[Eval-Epoch880] Improve f1 0.0081, improve jaccard 0.0098, improve new_nmi 0.0083\n",
            "[Eval-Epoch900] Improve f1 0.0275, improve jaccard 0.0383, improve new_nmi 0.0325\n",
            "[Eval-Epoch920] Improve f1 0.0103, improve jaccard 0.0129, improve new_nmi 0.0034\n",
            "[Eval-Epoch940] Improve f1 0.0275, improve jaccard 0.0383, improve new_nmi 0.0325\n",
            "[Eval-Epoch980] Improve f1 0.0103, improve jaccard 0.0129, improve new_nmi 0.0034\n",
            "[Eval-Epoch1000] Improve f1 0.0178, improve jaccard 0.0240, improve new_nmi 0.0201\n",
            "Load net from /content/drive/MyDrive/KDD2022CLARE-master/ckpts/dblp/20231127-212726/commr_eval_best.pt at Epoch939\n",
            "[Rewrite] Pred size 1000, Avg Length 8.7980\n",
            "P, R, F, J AvgAxis0:  [0.54214689 0.55284729 0.5264572  0.40745829]\n",
            "P, R, F, J AvgAxis1:  [0.41588233 0.39467351 0.39019173 0.31581345]\n",
            "AvgF1: 0.4583 AvgJaccard: 0.3616 NMI: 0.2921 Detect percent: 0.4355\n",
            "## Finishing Time: 2023-11-27 21:41:11\n",
            "= = = = = = = = = = = = = = = = = = = = \n"
          ]
        }
      ]
    },
    {
      "cell_type": "code",
      "source": [
        "!python /content/drive/MyDrive/KDD2022CLARE-master/main.py --dataset=amazon_dblp"
      ],
      "metadata": {
        "colab": {
          "base_uri": "https://localhost:8080/"
        },
        "id": "WvJuigmsrf8X",
        "outputId": "98e2bd24-4db4-44be-c7b6-e0b25aa963fa"
      },
      "execution_count": null,
      "outputs": [
        {
          "output_type": "stream",
          "name": "stdout",
          "text": [
            "= = = = = = = = = = = = = = = = = = = = \n",
            "##  Starting Time: 2023-11-27 21:51:05\n",
            "Namespace(seed=0, device='cuda:0', dataset='amazon_dblp', num_pred=1000, num_train=90, num_val=10, gnn_type='GCN', n_layers=2, hidden_dim=64, output_dim=64, margin=0.6, comm_max_size=12, locator_lr=0.001, locator_epoch=30, locator_batch_size=256, agent_lr=0.001, n_episode=10, n_epoch=1000, gamma=0.99, max_step=10, max_rewrite_step=4, commr_path='', writer_dir='/content/drive/MyDrive/KDD2022CLARE-master/ckpts/amazon_dblp/20231127-215105')\n",
            "[AMAZON_DBLP] #Nodes 43946, #Edges 172394, #Communities 1000\n",
            "Finish loading data: Data(x=[43946, 5], edge_index=[2, 344788])\n",
            "\n",
            "Split dataset: #Train 90, #Val 10, #Test 900\n",
            "\n",
            "Community Locator init ... \n",
            "GNNEncoder(\n",
            "  (act): LeakyReLU(negative_slope=0.01)\n",
            "  (conv_layers): ModuleList(\n",
            "    (0): GCNConv(5, 64)\n",
            "    (1): GCNConv(64, 64)\n",
            "  )\n",
            ")\n",
            "Community Locator finish initialization!\n",
            "\n",
            "Training Order Embedding ... \n",
            "***epoch: 0001 | ORDER EMBEDDING train_loss: 24.44607 | cost time 4.03s\n",
            "***epoch: 0002 | ORDER EMBEDDING train_loss: 18.74410 | cost time 5.39s\n",
            "***epoch: 0003 | ORDER EMBEDDING train_loss: 20.76900 | cost time 4.98s\n",
            "***epoch: 0004 | ORDER EMBEDDING train_loss: 25.41151 | cost time 3.69s\n",
            "***epoch: 0005 | ORDER EMBEDDING train_loss: 18.47100 | cost time 3.68s\n",
            "***epoch: 0006 | ORDER EMBEDDING train_loss: 15.87371 | cost time 5.82s\n",
            "***epoch: 0007 | ORDER EMBEDDING train_loss: 28.08701 | cost time 4.43s\n",
            "***epoch: 0008 | ORDER EMBEDDING train_loss: 26.77901 | cost time 3.67s\n",
            "***epoch: 0009 | ORDER EMBEDDING train_loss: 21.51995 | cost time 3.75s\n",
            "***epoch: 0010 | ORDER EMBEDDING train_loss: 18.06931 | cost time 6.37s\n",
            "***epoch: 0011 | ORDER EMBEDDING train_loss: 17.02124 | cost time 3.67s\n",
            "***epoch: 0012 | ORDER EMBEDDING train_loss: 10.94558 | cost time 3.64s\n",
            "***epoch: 0013 | ORDER EMBEDDING train_loss: 26.96278 | cost time 4.26s\n",
            "***epoch: 0014 | ORDER EMBEDDING train_loss: 17.87788 | cost time 5.86s\n",
            "***epoch: 0015 | ORDER EMBEDDING train_loss: 17.22338 | cost time 3.61s\n",
            "***epoch: 0016 | ORDER EMBEDDING train_loss: 18.81340 | cost time 3.58s\n",
            "***epoch: 0017 | ORDER EMBEDDING train_loss: 22.86752 | cost time 4.74s\n",
            "***epoch: 0018 | ORDER EMBEDDING train_loss: 16.31881 | cost time 5.39s\n",
            "***epoch: 0019 | ORDER EMBEDDING train_loss: 10.70972 | cost time 3.67s\n",
            "***epoch: 0020 | ORDER EMBEDDING train_loss: 13.70137 | cost time 3.64s\n",
            "***epoch: 0021 | ORDER EMBEDDING train_loss: 9.29221 | cost time 5.44s\n",
            "***epoch: 0022 | ORDER EMBEDDING train_loss: 11.78085 | cost time 4.78s\n",
            "***epoch: 0023 | ORDER EMBEDDING train_loss: 18.13928 | cost time 3.64s\n",
            "***epoch: 0024 | ORDER EMBEDDING train_loss: 12.56487 | cost time 3.63s\n",
            "***epoch: 0025 | ORDER EMBEDDING train_loss: 17.20340 | cost time 5.99s\n",
            "***epoch: 0026 | ORDER EMBEDDING train_loss: 9.87689 | cost time 4.16s\n",
            "***epoch: 0027 | ORDER EMBEDDING train_loss: 8.27579 | cost time 3.63s\n",
            "***epoch: 0028 | ORDER EMBEDDING train_loss: 7.92063 | cost time 3.92s\n",
            "***epoch: 0029 | ORDER EMBEDDING train_loss: 8.35508 | cost time 6.39s\n",
            "***epoch: 0030 | ORDER EMBEDDING train_loss: 14.88198 | cost time 3.68s\n",
            "Order Embedding Finish Training!\n",
            "\n"
          ]
        }
      ]
    },
    {
      "cell_type": "code",
      "source": [],
      "metadata": {
        "id": "N9Qm20s7w50n"
      },
      "execution_count": null,
      "outputs": []
    }
  ]
}